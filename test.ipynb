{
 "cells": [
  {
   "cell_type": "code",
   "execution_count": null,
   "metadata": {},
   "outputs": [],
   "source": [
    "import cv2\n",
    "import os\n",
    "import time\n",
    "import numpy as np\n",
    "import matplotlib.pyplot as plt\n",
    "import keras\n",
    "from keras.models import load_model\n",
    "%matplotlib inline"
   ]
  },
  {
   "cell_type": "code",
   "execution_count": null,
   "metadata": {},
   "outputs": [],
   "source": [
    "protoFile = \"/path/to/models/pose/coco/pose_deploy_linevec.prototxt\"\n",
    "weightsFile = \"/path/to/models/pose/coco/pose_iter_440000.caffemodel\"\n",
    "modelFile=\"/path/to/models/fileName\"   \n",
    "input_source = \"/path/to/video/fileName\"\n",
    "output_fileName = \"/path/to/video/output.avi\"\n",
    "nPoints = 18\n",
    "POSE_PAIRS = [ [1,0],[1,2],[1,5],[2,3],[3,4],[5,6],[6,7],[1,8],[8,9],[9,10],[1,11],[11,12],[12,13],[0,14],[0,15],[14,16],[15,17]]\n",
    "\n",
    "inWidth = 368\n",
    "inHeight = 368\n",
    "threshold = 0.2"
   ]
  },
  {
   "cell_type": "code",
   "execution_count": null,
   "metadata": {},
   "outputs": [],
   "source": [
    "LABELS = [    \n",
    "    \"JUMPING\",\n",
    "    \"JUMPING_JACKS\",\n",
    "    \"BOXING\",\n",
    "    \"WAVING_2HANDS\",\n",
    "    \"WAVING_1HAND\",\n",
    "    \"CLAPPING_HANDS\"\n",
    "]\n",
    "n_steps = 32 # 32 timesteps per series"
   ]
  },
  {
   "cell_type": "code",
   "execution_count": null,
   "metadata": {},
   "outputs": [],
   "source": [
    "# Load the openpose model\n",
    "net = cv2.dnn.readNetFromCaffe(protoFile, weightsFile)\n",
    "\n",
    "#Load the action-recognition trained model\n",
    "model=load_model(modelFile)"
   ]
  },
  {
   "cell_type": "code",
   "execution_count": null,
   "metadata": {},
   "outputs": [],
   "source": [
    "cap = cv2.VideoCapture(input_source)\n",
    "success, frame = cap.read()\n",
    "vid_writer = cv2.VideoWriter(output_fileName,cv2.VideoWriter_fourcc('M','J','P','G'), 30, (frame.shape[1],frame.shape[0]))"
   ]
  },
  {
   "cell_type": "code",
   "execution_count": null,
   "metadata": {},
   "outputs": [],
   "source": [
    "iterator=0\n",
    "openpose_output=[]   #Will store the openpose time series data for recent n_steps\n",
    "inteval = 1\n",
    "sequence_start=0   #starting location of circular array"
   ]
  },
  {
   "cell_type": "code",
   "execution_count": null,
   "metadata": {},
   "outputs": [],
   "source": [
    "while(cap.isOpened()):\n",
    "    t = time.time()\n",
    "    success, frame = cap.read()\n",
    "    if success:\n",
    "        frameCopy = np.copy(frame)\n",
    "\n",
    "        frameWidth = frame.shape[1]\n",
    "        frameHeight = frame.shape[0]\n",
    "\n",
    "        inpBlob = cv2.dnn.blobFromImage(frame, 1.0 / 255, (inWidth, inHeight),\n",
    "                                  (0, 0, 0), swapRB=False, crop=False)\n",
    "        net.setInput(inpBlob)\n",
    "        output = net.forward()\n",
    "\n",
    "        H = output.shape[2]\n",
    "        W = output.shape[3]\n",
    "        # Empty list to store the detected keypoints\n",
    "        points = []\n",
    "\n",
    "        for i in range(nPoints):\n",
    "            # confidence map of corresponding body's part.\n",
    "            probMap = output[0, i, :, :]\n",
    "\n",
    "            # Find global maxima of the probMap.\n",
    "            minVal, prob, minLoc, point = cv2.minMaxLoc(probMap)\n",
    "\n",
    "            # Scale the point to fit on the original image\n",
    "            x = (frameWidth * point[0]) / W\n",
    "            y = (frameHeight * point[1]) / H\n",
    "\n",
    "            if prob > threshold : \n",
    "                cv2.circle(frameCopy, (int(x), int(y)), 8, (0, 255, 255), thickness=-1, lineType=cv2.FILLED)\n",
    "                cv2.putText(frameCopy, \"{}\".format(i), (int(x), int(y)), cv2.FONT_HERSHEY_SIMPLEX, 1, (0, 0, 255), 2, lineType=cv2.LINE_AA)\n",
    "\n",
    "                # Add the point to the list if the probability is greater than the threshold\n",
    "                points.append((int(x), int(y)))\n",
    "            else :\n",
    "                points.append((0,0))\n",
    "        if len(openpose_output)<32 and len(points)>0:\n",
    "            openpose_output.append(points)\n",
    "            iterator=iterator+1\n",
    "        elif len(points)>0:\n",
    "            openpose_output[iterator%32]=points\n",
    "            iterator=iterator+1    \n",
    "            X_ = np.asarray(openpose_output, dtype=np.float32)\n",
    "            X_ = X_[np.newaxis, :, :]\n",
    "            X_=X_.reshape(X_.shape[0],X_.shape[1],X_.shape[2]*X_.shape[3])\n",
    "            sequence_arr=np.append(X_[:,sequence_start:,:],X_[:,:sequence_start,:],axis=1)\n",
    "            sequence_start=(sequence_start+1)%32\n",
    "            \n",
    "            result_prob=model.predict(sequence_arr,None)\n",
    "            y_class= result_prob.argmax(axis=-1)\n",
    "            label=LABELS[y_class[0]]\n",
    "            print(\"Iterator::\",iterator,\" Label ::\",label)\n",
    "            cv2.putText(frame, label, (50, 150), cv2.FONT_HERSHEY_COMPLEX, .8, (255, 50, 0),lineType=cv2.LINE_AA)\n",
    "\n",
    "\n",
    "        # Draw Skeleton\n",
    "        for pair in POSE_PAIRS:\n",
    "            partA = pair[0]\n",
    "            partB = pair[1]\n",
    "            if  points[partA][0] and points[partB][0]:\n",
    "                cv2.line(frame, points[partA], points[partB], (0, 255, 255), 3, lineType=cv2.LINE_AA)\n",
    "                cv2.circle(frame, points[partA], 8, (0, 0, 255), thickness=-1, lineType=cv2.FILLED)\n",
    "                cv2.circle(frame, points[partB], 8, (0, 0, 255), thickness=-1, lineType=cv2.FILLED)\n",
    "\n",
    "        cv2.putText(frame, \"time taken = {:.2f} sec\".format(time.time() - t), (50, 50), cv2.FONT_HERSHEY_COMPLEX, .8, (255, 50, 0), 2, lineType=cv2.LINE_AA)\n",
    "\n",
    "        plt.figure(figsize=[10,10])\n",
    "        plt.imshow(cv2.cvtColor(frame, cv2.COLOR_BGR2RGB))\n",
    "        vid_writer.write(frame)\n",
    "\n",
    "        c = cv2.waitKey(inteval) & 0xFF\n",
    "        if c == 27 or c == ord('q'):\n",
    "            break\n",
    "    else:\n",
    "        break\n",
    "        \n",
    "vid_writer.release()    \n",
    "cap.release()\n",
    "cv2.destroyAllWindows()    "
   ]
  }
 ],
 "metadata": {
  "kernelspec": {
   "display_name": "Python 3",
   "language": "python",
   "name": "python3"
  },
  "language_info": {
   "codemirror_mode": {
    "name": "ipython",
    "version": 3
   },
   "file_extension": ".py",
   "mimetype": "text/x-python",
   "name": "python",
   "nbconvert_exporter": "python",
   "pygments_lexer": "ipython3",
   "version": "3.6.3"
  }
 },
 "nbformat": 4,
 "nbformat_minor": 2
}
